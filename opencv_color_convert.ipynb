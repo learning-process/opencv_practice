{
  "nbformat": 4,
  "nbformat_minor": 0,
  "metadata": {
    "colab": {
      "name": "opencv_core.ipynb",
      "provenance": [],
      "collapsed_sections": [],
      "authorship_tag": "ABX9TyOLGekSe0idVioz+kPiljeE",
      "include_colab_link": true
    },
    "kernelspec": {
      "name": "python3",
      "display_name": "Python 3"
    },
    "language_info": {
      "name": "python"
    }
  },
  "cells": [
    {
      "cell_type": "markdown",
      "metadata": {
        "id": "view-in-github",
        "colab_type": "text"
      },
      "source": [
        "<a href=\"https://colab.research.google.com/github/allnes/opencv_practice/blob/main/opencv_color_convert.ipynb\" target=\"_parent\"><img src=\"https://colab.research.google.com/assets/colab-badge.svg\" alt=\"Open In Colab\"/></a>"
      ]
    },
    {
      "cell_type": "code",
      "metadata": {
        "id": "Q3AvXQuXkXu7"
      },
      "source": [
        "# Install OpenCV library\n",
        "!python3 -m pip install opencv-python"
      ],
      "execution_count": null,
      "outputs": []
    },
    {
      "cell_type": "code",
      "metadata": {
        "id": "riZh8NR5lY7v"
      },
      "source": [
        "# Import OpenCV library in your code\n",
        "import cv2 as cv"
      ],
      "execution_count": null,
      "outputs": []
    },
    {
      "cell_type": "code",
      "metadata": {
        "id": "LAH7cqjRK446"
      },
      "source": [
        "!wget https://github.com/opencv/opencv_extra/blob/4.x/testdata/cv/features2d/tsukuba.png\n",
        "!pwd"
      ],
      "execution_count": null,
      "outputs": []
    },
    {
      "cell_type": "code",
      "metadata": {
        "id": "rX_B9Ld9Kngq"
      },
      "source": [
        "# Download image\n",
        "!curl -o logo.png https://colab.research.google.com/img/colab_favicon_256px.png\n",
        "\n",
        "# Read image with help opencv\n",
        "img = cv2.imread('logo.png', cv2.IMREAD_UNCHANGED) # \n",
        "\n",
        "# Check image\n",
        "print(img)"
      ],
      "execution_count": null,
      "outputs": []
    },
    {
      "cell_type": "code",
      "metadata": {
        "id": "ZFj1uXEePelE"
      },
      "source": [
        "# Convert color image to gray scale image\n",
        "\n",
        "gray_img = cv2.cvtColor(img, cv2.COLOR_BGR2GRAY)\n"
      ],
      "execution_count": null,
      "outputs": []
    },
    {
      "cell_type": "code",
      "metadata": {
        "id": "TWFYxN_lLrI3"
      },
      "source": [
        "#show image with help imshow by opencv\n",
        "\n",
        "# cv.imshow('image', img) \n",
        "# cv.waitKey(0)        \n",
        "# cv.destroyAllWindows() \n",
        "\n",
        "from google.colab.patches import cv2_imshow\n",
        "cv2_imshow(img)"
      ],
      "execution_count": null,
      "outputs": []
    },
    {
      "cell_type": "code",
      "metadata": {
        "id": "ZWrJoOIIP1zf"
      },
      "source": [
        "#show image with help imshow by opencv\n",
        "\n",
        "# cv.imshow('image', img) \n",
        "# cv.waitKey(0)        \n",
        "# cv.destroyAllWindows() \n",
        "\n",
        "from google.colab.patches import cv2_imshow\n",
        "cv2_imshow(gray_img)"
      ],
      "execution_count": null,
      "outputs": []
    }
  ]
}