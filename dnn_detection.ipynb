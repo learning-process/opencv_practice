{
  "nbformat": 4,
  "nbformat_minor": 0,
  "metadata": {
    "colab": {
      "name": "Как эффективнее использовать подписку на Colab",
      "provenance": [],
      "collapsed_sections": [],
      "include_colab_link": true
    },
    "kernelspec": {
      "display_name": "Python 3",
      "name": "python3"
    }
  },
  "cells": [
    {
      "cell_type": "markdown",
      "metadata": {
        "id": "view-in-github",
        "colab_type": "text"
      },
      "source": [
        "<a href=\"https://colab.research.google.com/github/allnes/opencv_practice/blob/main/dnn_detection.ipynb\" target=\"_parent\"><img src=\"https://colab.research.google.com/assets/colab-badge.svg\" alt=\"Open In Colab\"/></a>"
      ]
    },
    {
      "cell_type": "code",
      "metadata": {
        "id": "Y4NkDcOJzoqj"
      },
      "source": [
        "!python3 -m pip install opencv-python"
      ],
      "execution_count": null,
      "outputs": []
    },
    {
      "cell_type": "code",
      "metadata": {
        "id": "hJkaUSWTzq7W"
      },
      "source": [
        "import cv2 as cv"
      ],
      "execution_count": null,
      "outputs": []
    },
    {
      "cell_type": "code",
      "metadata": {
        "id": "o3g5_6cOzuDA"
      },
      "source": [
        "!curl -o car.jpeg https://imgd.aeplcdn.com/0x0/n/cw/ec/27032/s60-exterior-right-front-three-quarter-3.jpeg\n",
        "!pwd\n",
        "\n",
        "!curl -o DenseNet_201.prototxt https://raw.githubusercontent.com/shicai/DenseNet-Caffe/a68651c0b91d8dcb7c0ecd39d1fc76da523baf8a/DenseNet_201.prototxt\n",
        "!curl -o DenseNet_201.caffemodel https://storage.openvinotoolkit.org/repositories/open_model_zoo/public/2021.4/densenet-201/DenseNet_201.caffemodel"
      ],
      "execution_count": null,
      "outputs": []
    },
    {
      "cell_type": "code",
      "metadata": {
        "id": "kfCzMkBXz6DP"
      },
      "source": [
        "img = cv.imread('car.jpeg')"
      ],
      "execution_count": null,
      "outputs": []
    },
    {
      "cell_type": "code",
      "metadata": {
        "id": "O1sAtPHI0CaZ"
      },
      "source": [
        "net = cv.dnn.readNet(\"DenseNet_201.caffemodel\", \"DenseNet_201.prototxt\")"
      ],
      "execution_count": null,
      "outputs": []
    },
    {
      "cell_type": "code",
      "metadata": {
        "id": "U2kG-qK508e7"
      },
      "source": [
        "scale = 1 / 58.8235294117647\n",
        "width = 224\n",
        "height = 224\n",
        "mean = [103.94, 116.78, 123.68]\n",
        "swapRB = False\n",
        "crop = False\n",
        "\n",
        "blob = cv.dnn.blobFromImage(img, scale, (width, height), mean, swapRB, crop)"
      ],
      "execution_count": null,
      "outputs": []
    },
    {
      "cell_type": "code",
      "metadata": {
        "id": "3_FddeMi1fGW"
      },
      "source": [
        "net.setInput(blob);\n",
        "prob = net.forward();"
      ],
      "execution_count": null,
      "outputs": []
    },
    {
      "cell_type": "code",
      "metadata": {
        "id": "V7w9lJ4Q1q0b"
      },
      "source": [
        "!curl -o labels.txt https://gist.githubusercontent.com/yrevar/942d3a0ac09ec9e5eb3a/raw/238f720ff059c1f82f368259d1ca4ffa5dd8f9f5/imagenet1000_clsidx_to_labels.txt\n"
      ],
      "execution_count": null,
      "outputs": []
    },
    {
      "cell_type": "code",
      "metadata": {
        "id": "2-1Ega9k15eK"
      },
      "source": [
        "_, _, _, res = cv.minMaxLoc(prob.reshape(1000))"
      ],
      "execution_count": null,
      "outputs": []
    },
    {
      "cell_type": "code",
      "metadata": {
        "id": "zZpdFpOE2Zyw"
      },
      "source": [
        "print(res)"
      ],
      "execution_count": null,
      "outputs": []
    }
  ]
}